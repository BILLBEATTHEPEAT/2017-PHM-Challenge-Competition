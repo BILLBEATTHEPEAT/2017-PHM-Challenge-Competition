{
 "metadata": {
  "name": "",
  "signature": "sha256:dbba1c67ffe3df17370d6968279d219da0376e8ac85e891af10c29c3681f13ea"
 },
 "nbformat": 3,
 "nbformat_minor": 0,
 "worksheets": [
  {
   "cells": [
    {
     "cell_type": "code",
     "collapsed": false,
     "input": [
      "import numpy as np\n",
      "import os\n",
      "import pandas as pd"
     ],
     "language": "python",
     "metadata": {},
     "outputs": [],
     "prompt_number": 1
    },
    {
     "cell_type": "code",
     "collapsed": false,
     "input": [
      "def moving_average(a, n=3) :\n",
      "    ret = np.cumsum(a, dtype=float)\n",
      "    ret[n:] = ret[n:] - ret[:-n]\n",
      "    return ret[n - 1:] / n"
     ],
     "language": "python",
     "metadata": {},
     "outputs": [],
     "prompt_number": 18
    },
    {
     "cell_type": "code",
     "collapsed": false,
     "input": [
      "def prebatch():\n",
      "    print \"loading the data from CSV format\"\n",
      "    \n",
      "    trainDir = '../training2/'\n",
      "    fileName = sorted(os.listdir(trainDir))\n",
      "#     fileName.sort()\n",
      "#     print fileName\n",
      "    print len(fileName)\n",
      "    train_data_array = np.array([])\n",
      "    for item in fileName:\n",
      "        train_data = pd.read_csv(trainDir+item, header = 0)\n",
      "        train_data = np.array(train_data) #.values.tolist()\n",
      "        for i in range(train_data.shape[0]/50):\n",
      "            data_slice = train_data[i*50:(i+1)*50,::]\n",
      "            train_data_array = np.append(train_data_array, data_slice)\n",
      "#         train_data = train_data[:50,::]\n",
      "#         train_data_array = np.append(train_data_array, train_data)\n",
      "\n",
      "#     print train_data\n",
      "    print train_data_array.shape\n",
      "    return train_data_array"
     ],
     "language": "python",
     "metadata": {},
     "outputs": [],
     "prompt_number": 23
    },
    {
     "cell_type": "code",
     "collapsed": false,
     "input": [
      "train = prebatch()"
     ],
     "language": "python",
     "metadata": {},
     "outputs": [
      {
       "output_type": "stream",
       "stream": "stdout",
       "text": [
        "loading the data from CSV format\n",
        "100\n",
        "(1800000,)"
       ]
      },
      {
       "output_type": "stream",
       "stream": "stdout",
       "text": [
        "\n"
       ]
      }
     ],
     "prompt_number": 24
    },
    {
     "cell_type": "code",
     "collapsed": false,
     "input": [
      "print train.shape"
     ],
     "language": "python",
     "metadata": {},
     "outputs": [
      {
       "output_type": "stream",
       "stream": "stdout",
       "text": [
        "(1800000,)\n"
       ]
      }
     ],
     "prompt_number": 25
    },
    {
     "cell_type": "code",
     "collapsed": false,
     "input": [
      "train = train.reshape(-1,50*90)"
     ],
     "language": "python",
     "metadata": {},
     "outputs": [],
     "prompt_number": 26
    },
    {
     "cell_type": "code",
     "collapsed": false,
     "input": [
      "# from sklearn.preprocessing import StandardScaler\n",
      "# scaler = StandardScaler().fit(train)\n",
      "train = scaler.transform(train)"
     ],
     "language": "python",
     "metadata": {},
     "outputs": [],
     "prompt_number": 27
    },
    {
     "cell_type": "code",
     "collapsed": false,
     "input": [
      "train = train.reshape(-1,50,90)\n",
      "train = train[::,:50,::]"
     ],
     "language": "python",
     "metadata": {},
     "outputs": [],
     "prompt_number": 28
    },
    {
     "cell_type": "code",
     "collapsed": false,
     "input": [
      "train.shape"
     ],
     "language": "python",
     "metadata": {},
     "outputs": [
      {
       "metadata": {},
       "output_type": "pyout",
       "prompt_number": 29,
       "text": [
        "(400, 50, 90)"
       ]
      }
     ],
     "prompt_number": 29
    },
    {
     "cell_type": "code",
     "collapsed": false,
     "input": [
      "temp = np.array([])\n",
      "for i in range(400):\n",
      "    for j in range(90):\n",
      "        temp = np.append(temp, moving_average(train[i][::,j]))\n",
      "temp = temp.reshape(400,-1,90)\n",
      "print temp.shape\n",
      "train = temp"
     ],
     "language": "python",
     "metadata": {},
     "outputs": [
      {
       "output_type": "stream",
       "stream": "stdout",
       "text": [
        "(400, 48, 90)\n"
       ]
      }
     ],
     "prompt_number": 30
    },
    {
     "cell_type": "code",
     "collapsed": false,
     "input": [
      "cov = []\n",
      "for _, item in enumerate(train):\n",
      "    #print item.shape\n",
      "    corr_coef = np.corrcoef(item, rowvar=0)\n",
      "#     print corr_coef.shape\n",
      "    tri = np.triu(corr_coef)\n",
      "#     tri = tri[np.where(tri != 0)]\n",
      "    cov = np.append(cov, tri)\n",
      "cov = cov.reshape(400, -1)\n",
      "print cov.shape"
     ],
     "language": "python",
     "metadata": {},
     "outputs": [
      {
       "output_type": "stream",
       "stream": "stdout",
       "text": [
        "(400, 8100)\n"
       ]
      }
     ],
     "prompt_number": 32
    },
    {
     "cell_type": "code",
     "collapsed": false,
     "input": [
      "np.save('train_correlation_coefficient_upper_large_track2', cov)"
     ],
     "language": "python",
     "metadata": {},
     "outputs": [],
     "prompt_number": 33
    },
    {
     "cell_type": "code",
     "collapsed": false,
     "input": [
      "cov"
     ],
     "language": "python",
     "metadata": {},
     "outputs": [
      {
       "metadata": {},
       "output_type": "pyout",
       "prompt_number": 264,
       "text": [
        "array([[ 1.        ,  0.37013002,  0.26909494, ...,  1.        ,\n",
        "         0.41484032,  1.        ],\n",
        "       [ 1.        ,  0.6774586 ,  0.55918147, ...,  1.        ,\n",
        "         0.71084731,  1.        ],\n",
        "       [ 1.        ,  0.23962406,  0.31014295, ...,  1.        ,\n",
        "         0.80970994,  1.        ],\n",
        "       ..., \n",
        "       [ 1.        ,  0.46854487,  0.34615561, ...,  1.        ,\n",
        "         0.57545265,  1.        ],\n",
        "       [ 1.        ,  0.71762402,  0.74806257, ...,  1.        ,\n",
        "         0.67070564,  1.        ],\n",
        "       [ 1.        ,  0.35793411,  0.30316086, ...,  1.        ,\n",
        "         0.47206933,  1.        ]])"
       ]
      }
     ],
     "prompt_number": 264
    },
    {
     "cell_type": "code",
     "collapsed": false,
     "input": [
      "d = np.arange(25).reshape(5,5)\n",
      "print d\n",
      "np.diag(d)"
     ],
     "language": "python",
     "metadata": {},
     "outputs": [
      {
       "output_type": "stream",
       "stream": "stdout",
       "text": [
        "[[ 0  1  2  3  4]\n",
        " [ 5  6  7  8  9]\n",
        " [10 11 12 13 14]\n",
        " [15 16 17 18 19]\n",
        " [20 21 22 23 24]]\n"
       ]
      },
      {
       "metadata": {},
       "output_type": "pyout",
       "prompt_number": 278,
       "text": [
        "array([ 0,  6, 12, 18, 24])"
       ]
      }
     ],
     "prompt_number": 278
    },
    {
     "cell_type": "code",
     "collapsed": false,
     "input": [
      "a = np.load('train_correlation_coefficient_select_large.npy')"
     ],
     "language": "python",
     "metadata": {},
     "outputs": [],
     "prompt_number": 51
    },
    {
     "cell_type": "code",
     "collapsed": false,
     "input": [
      "a[0].shape"
     ],
     "language": "python",
     "metadata": {},
     "outputs": [
      {
       "metadata": {},
       "output_type": "pyout",
       "prompt_number": 53,
       "text": [
        "(819,)"
       ]
      }
     ],
     "prompt_number": 53
    },
    {
     "cell_type": "code",
     "collapsed": false,
     "input": [
      "label =  pd.read_csv('../testing.csv', header = 0)"
     ],
     "language": "python",
     "metadata": {},
     "outputs": [],
     "prompt_number": 2
    },
    {
     "cell_type": "code",
     "collapsed": false,
     "input": [
      "label = label['Track'].tolist()"
     ],
     "language": "python",
     "metadata": {},
     "outputs": [],
     "prompt_number": 6
    },
    {
     "cell_type": "code",
     "collapsed": false,
     "input": [
      "np.save('track.npy', label)"
     ],
     "language": "python",
     "metadata": {},
     "outputs": [],
     "prompt_number": 8
    },
    {
     "cell_type": "code",
     "collapsed": false,
     "input": [
      "np.load('track.npy')"
     ],
     "language": "python",
     "metadata": {},
     "outputs": [
      {
       "metadata": {},
       "output_type": "pyout",
       "prompt_number": 34,
       "text": [
        "array([1, 1, 2, 2, 1, 2, 2, 1, 1, 2, 1, 2, 2, 2, 1, 2, 1, 2, 1, 1, 1, 2, 1,\n",
        "       2, 2, 1, 2, 1, 2, 1, 2, 1, 2, 2, 2, 2, 2, 1, 1, 1, 2, 1, 2, 2, 2, 1,\n",
        "       1, 2, 1, 2, 2, 2, 2, 2, 2, 2, 2, 2, 1, 1, 1, 2, 1, 2, 1, 1, 1, 2, 2,\n",
        "       1, 1, 2, 2, 1, 1, 1, 1, 1, 1, 1, 2, 2, 2, 2, 2, 1, 1, 2, 1, 1, 1, 2,\n",
        "       2, 1, 2, 2, 2, 2, 1, 2, 1, 1, 1, 1, 2, 2, 2, 2, 2, 1, 1, 1, 1, 1, 2,\n",
        "       2, 1, 2, 2, 2, 1, 2, 1, 1, 1, 1, 1, 1, 2, 2, 1, 1, 1, 2, 2, 1, 1, 1,\n",
        "       2, 1, 2, 2, 2, 1, 1, 1, 1, 1, 1, 1, 2, 1, 1, 1, 1, 1, 1, 1, 2, 1, 2,\n",
        "       1, 2, 1, 1, 2, 1, 1, 1, 2, 2, 2, 1, 2, 1, 2, 2, 1, 2, 1, 1, 2, 2, 1,\n",
        "       1, 2, 1, 2, 1, 2, 2, 1, 1, 1, 1, 1, 2, 2, 2, 1])"
       ]
      }
     ],
     "prompt_number": 34
    },
    {
     "cell_type": "code",
     "collapsed": false,
     "input": [],
     "language": "python",
     "metadata": {},
     "outputs": []
    }
   ],
   "metadata": {}
  }
 ]
}